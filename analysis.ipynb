{
 "cells": [
  {
   "cell_type": "code",
   "execution_count": null,
   "metadata": {},
   "outputs": [],
   "source": [
    "from pathlib import Path\n",
    "import mlx.core as mx\n",
    "import mlx.nn as nn\n",
    "import mlx.optimizers as optim\n",
    "import os\n",
    "from tqdm import tqdm\n",
    "import tyro\n",
    "import numpy as np\n",
    "import plotly.graph_objects as go\n",
    "\n",
    "from sative.datasets import FeatureDataset\n",
    "from sative.models import SparseAutoencoder"
   ]
  },
  {
   "cell_type": "code",
   "execution_count": null,
   "metadata": {},
   "outputs": [],
   "source": [
    "in_dim: int = 768\n",
    "sae_expansion: int = 16\n",
    "target_layer: int = 12\n",
    "\n",
    "dataset = FeatureDataset(\"features\", layer=target_layer)"
   ]
  },
  {
   "cell_type": "code",
   "execution_count": null,
   "metadata": {},
   "outputs": [],
   "source": [
    "# sae_feat_dir = Path(\"sae_features/12_02048_004/weights_004\")\n",
    "sae_feat_dir = Path(\"sae_features/12_32768_004/weights_004\")\n",
    "cumulative_item_sparsity = np.zeros(in_dim * sae_expansion, dtype=int)\n",
    "# sparsity_per_item = []\n",
    "\n",
    "batches_len = 0\n",
    "for filename in tqdm(os.listdir(sae_feat_dir)):\n",
    "    batch = np.load(sae_feat_dir / filename)\n",
    "    cumulative_item_sparsity += np.count_nonzero(np.abs(batch) > 0, axis=0)\n",
    "    # sparsity_per_item.append(np.count_nonzero(np.abs(batch) > 0, axis=1))\n",
    "\n",
    "    batches_len += batch.shape[0]\n",
    "\n",
    "# sparsity_per_item = np.concatenate(sparsity_per_item)\n",
    "# log_sparsity_per_item = np.log10(sparsity_per_item / (in_dim * sae_expansion))"
   ]
  },
  {
   "cell_type": "code",
   "execution_count": null,
   "metadata": {},
   "outputs": [],
   "source": [
    "sparsity = np.log10(cumulative_item_sparsity[cumulative_item_sparsity.nonzero()] / len(dataset))\n",
    "hist, bin_edges = np.histogram(sparsity, 100)\n",
    "\n",
    "fig = go.Figure(data=[go.Bar(\n",
    "    x=bin_edges,\n",
    "    y=hist,\n",
    ")])\n",
    "\n",
    "fig.update_layout(\n",
    "    title=\"Batch Size 32768\",\n",
    "    xaxis_title=\"Log 10 sparsity\",\n",
    "    yaxis_title=\"Count\"\n",
    ")\n",
    "\n",
    "fig.show()"
   ]
  },
  {
   "cell_type": "code",
   "execution_count": null,
   "metadata": {},
   "outputs": [],
   "source": []
  }
 ],
 "metadata": {
  "kernelspec": {
   "display_name": "sative",
   "language": "python",
   "name": "python3"
  },
  "language_info": {
   "codemirror_mode": {
    "name": "ipython",
    "version": 3
   },
   "file_extension": ".py",
   "mimetype": "text/x-python",
   "name": "python",
   "nbconvert_exporter": "python",
   "pygments_lexer": "ipython3",
   "version": "3.8.19"
  }
 },
 "nbformat": 4,
 "nbformat_minor": 2
}
